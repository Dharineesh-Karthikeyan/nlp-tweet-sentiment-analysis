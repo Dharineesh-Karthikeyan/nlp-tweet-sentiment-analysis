{
 "cells": [
  {
   "cell_type": "code",
   "execution_count": 2,
   "metadata": {
    "colab": {},
    "colab_type": "code",
    "id": "qoavRMu9sjjs"
   },
   "outputs": [],
   "source": [
    "#Basic Necessities\n",
    "import numpy as np\n",
    "import pandas as pd\n",
    "\n",
    "# Warnings Handling\n",
    "import warnings\n",
    "warnings.filterwarnings(\"ignore\", category=DeprecationWarning)\n",
    "warnings.filterwarnings(\"ignore\", category=FutureWarning)\n",
    "\n",
    "# Word Embeddings Packages\n",
    "from sklearn.feature_extraction.text import TfidfVectorizer, CountVectorizer\n",
    "import gensim\n",
    "\n",
    "#ML Models Packages\n",
    "from sklearn.model_selection import train_test_split\n",
    "from sklearn.linear_model import LogisticRegression\n",
    "from sklearn import svm\n",
    "from sklearn.tree import DecisionTreeClassifier\n",
    "from sklearn.ensemble import RandomForestClassifier\n",
    "from xgboost import XGBClassifier\n",
    "from sklearn.naive_bayes import BernoulliNB\n",
    "from sklearn.naive_bayes import MultinomialNB\n",
    "from sklearn.linear_model import SGDClassifier\n",
    "from imblearn.over_sampling import SMOTE\n",
    "from sklearn.metrics import f1_score\n"
   ]
  },
  {
   "cell_type": "code",
   "execution_count": 3,
   "metadata": {
    "colab": {},
    "colab_type": "code",
    "id": "kpeRaYELsjj1"
   },
   "outputs": [],
   "source": [
    "train = pd.read_csv('data/train_clean_data.csv')\n",
    "test = pd.read_csv('data/test_clean_data.csv')"
   ]
  },
  {
   "cell_type": "markdown",
   "metadata": {
    "colab": {},
    "colab_type": "code",
    "id": "tZXHG7DYsjoK"
   },
   "source": [
    "# Word Embeddings"
   ]
  },
  {
   "cell_type": "markdown",
   "metadata": {},
   "source": [
    "## 1) Bag-Of-Words"
   ]
  },
  {
   "cell_type": "code",
   "execution_count": 4,
   "metadata": {
    "colab": {
     "base_uri": "https://localhost:8080/",
     "height": 34
    },
    "colab_type": "code",
    "id": "jGYa7uGnsjoZ",
    "outputId": "b9c589e3-cae5-47d3-cb42-6caebdb43edb"
   },
   "outputs": [
    {
     "data": {
      "text/plain": [
       "(21465, 170317)"
      ]
     },
     "execution_count": 4,
     "metadata": {},
     "output_type": "execute_result"
    }
   ],
   "source": [
    "BOWvectorize = CountVectorizer(ngram_range=(1,2))\n",
    "BOW = BOWvectorize.fit_transform(train['clean_text'])\n",
    "BOW.shape"
   ]
  },
  {
   "cell_type": "code",
   "execution_count": 5,
   "metadata": {},
   "outputs": [
    {
     "name": "stdout",
     "output_type": "stream",
     "text": [
      "  (0, 54106)\t1\n",
      "  (0, 67550)\t1\n",
      "  (0, 65649)\t1\n",
      "  (0, 56761)\t1\n",
      "  (0, 23227)\t1\n",
      "  (0, 65329)\t1\n",
      "  (0, 127936)\t1\n",
      "  (0, 62341)\t1\n",
      "  (0, 54113)\t1\n",
      "  (0, 67604)\t1\n",
      "  (0, 65693)\t1\n",
      "  (0, 56949)\t1\n",
      "  (0, 23228)\t1\n",
      "  (0, 65369)\t1\n",
      "  (0, 127994)\t1\n",
      "  (1, 148325)\t1\n",
      "  (1, 160833)\t1\n",
      "  (1, 141313)\t1\n",
      "  (1, 133606)\t1\n",
      "  (1, 161747)\t1\n",
      "  (1, 119355)\t1\n",
      "  (1, 74202)\t1\n",
      "  (1, 34202)\t1\n",
      "  (1, 148328)\t1\n",
      "  (1, 160836)\t1\n",
      "  :\t:\n",
      "  (21463, 116380)\t1\n",
      "  (21463, 5483)\t1\n",
      "  (21463, 118861)\t1\n",
      "  (21463, 26507)\t1\n",
      "  (21463, 5518)\t1\n",
      "  (21463, 147700)\t1\n",
      "  (21463, 116419)\t1\n",
      "  (21463, 26533)\t1\n",
      "  (21463, 95501)\t1\n",
      "  (21463, 118915)\t1\n",
      "  (21464, 28520)\t1\n",
      "  (21464, 122123)\t1\n",
      "  (21464, 99995)\t1\n",
      "  (21464, 28998)\t1\n",
      "  (21464, 136306)\t1\n",
      "  (21464, 3367)\t1\n",
      "  (21464, 100906)\t1\n",
      "  (21464, 79099)\t1\n",
      "  (21464, 100907)\t1\n",
      "  (21464, 79105)\t1\n",
      "  (21464, 28554)\t1\n",
      "  (21464, 136307)\t1\n",
      "  (21464, 3384)\t1\n",
      "  (21464, 122141)\t1\n",
      "  (21464, 29018)\t1\n"
     ]
    }
   ],
   "source": [
    "print(BOW)"
   ]
  },
  {
   "cell_type": "markdown",
   "metadata": {
    "colab_type": "text",
    "id": "2chSjdI0sjov"
   },
   "source": [
    "## 2) Tf-Idf Vectorization\n"
   ]
  },
  {
   "cell_type": "code",
   "execution_count": 6,
   "metadata": {
    "colab": {
     "base_uri": "https://localhost:8080/",
     "height": 34
    },
    "colab_type": "code",
    "id": "vF6RPVowsjow",
    "outputId": "864ef3d3-edc9-42e5-877d-fc68e0381293"
   },
   "outputs": [
    {
     "data": {
      "text/plain": [
       "(21465, 170317)"
      ]
     },
     "execution_count": 6,
     "metadata": {},
     "output_type": "execute_result"
    }
   ],
   "source": [
    "TfidfVect = TfidfVectorizer(ngram_range=(1,2))\n",
    "Tfidf = TfidfVect.fit_transform(train['clean_text'])\n",
    "Tfidf.shape"
   ]
  },
  {
   "cell_type": "code",
   "execution_count": 7,
   "metadata": {},
   "outputs": [
    {
     "name": "stdout",
     "output_type": "stream",
     "text": [
      "  (0, 127994)\t0.29842822463566954\n",
      "  (0, 65369)\t0.327627713876495\n",
      "  (0, 23228)\t0.2733024087674719\n",
      "  (0, 56949)\t0.29842822463566954\n",
      "  (0, 65693)\t0.327627713876495\n",
      "  (0, 67604)\t0.327627713876495\n",
      "  (0, 54113)\t0.327627713876495\n",
      "  (0, 62341)\t0.12348560615740357\n",
      "  (0, 127936)\t0.18087449176009213\n",
      "  (0, 65329)\t0.22505161357746817\n",
      "  (0, 23227)\t0.26797888668209513\n",
      "  (0, 56761)\t0.09866264738979658\n",
      "  (0, 65649)\t0.18879222412955343\n",
      "  (0, 67550)\t0.17740562220321512\n",
      "  (0, 54106)\t0.2656172836883205\n",
      "  (1, 74205)\t0.3018339344008399\n",
      "  (1, 119360)\t0.3018339344008399\n",
      "  (1, 162185)\t0.3018339344008399\n",
      "  (1, 133717)\t0.3018339344008399\n",
      "  (1, 141546)\t0.3018339344008399\n",
      "  (1, 160836)\t0.3018339344008399\n",
      "  (1, 148328)\t0.2899302094955352\n",
      "  (1, 34202)\t0.17449889426855378\n",
      "  (1, 74202)\t0.24923110522601574\n",
      "  (1, 119355)\t0.24688119556975172\n",
      "  :\t:\n",
      "  (21463, 95501)\t0.37879722156641804\n",
      "  (21463, 26533)\t0.36385821900074816\n",
      "  (21463, 116419)\t0.3098323292391115\n",
      "  (21463, 147700)\t0.3326402802506787\n",
      "  (21463, 5518)\t0.3098323292391115\n",
      "  (21463, 26507)\t0.26327271600547886\n",
      "  (21463, 118861)\t0.24197394991391366\n",
      "  (21463, 5483)\t0.24780357316037388\n",
      "  (21463, 116380)\t0.22306327824428085\n",
      "  (21463, 95495)\t0.19739066189167673\n",
      "  (21464, 29018)\t0.3077573789140584\n",
      "  (21464, 122141)\t0.3077573789140584\n",
      "  (21464, 3384)\t0.3077573789140584\n",
      "  (21464, 136307)\t0.3077573789140584\n",
      "  (21464, 28554)\t0.3077573789140584\n",
      "  (21464, 79105)\t0.3077573789140584\n",
      "  (21464, 100907)\t0.25192011773842665\n",
      "  (21464, 79099)\t0.25192011773842665\n",
      "  (21464, 100906)\t0.25192011773842665\n",
      "  (21464, 3367)\t0.23497922908032223\n",
      "  (21464, 136306)\t0.2066262284136414\n",
      "  (21464, 28998)\t0.22703592789587318\n",
      "  (21464, 99995)\t0.11413083355726764\n",
      "  (21464, 122123)\t0.18068757567374255\n",
      "  (21464, 28520)\t0.2149240356152929\n"
     ]
    }
   ],
   "source": [
    "print(Tfidf)"
   ]
  },
  {
   "cell_type": "markdown",
   "metadata": {
    "colab_type": "text",
    "id": "P6yLQRJYsjo3"
   },
   "source": [
    "## 3) Word2Vec"
   ]
  },
  {
   "cell_type": "code",
   "execution_count": 8,
   "metadata": {
    "colab": {
     "base_uri": "https://localhost:8080/",
     "height": 34
    },
    "colab_type": "code",
    "id": "P9hPjpXEsjo4",
    "outputId": "8866d7b8-77a9-4037-f115-45a89628ffa8"
   },
   "outputs": [
    {
     "data": {
      "text/plain": [
       "(3911649, 4693080)"
      ]
     },
     "execution_count": 8,
     "metadata": {},
     "output_type": "execute_result"
    }
   ],
   "source": [
    "Tokenize_tweet = train['clean_text'].apply(lambda x: x.split())\n",
    "\n",
    "Model_W2V = gensim.models.Word2Vec(Tokenize_tweet, size=200, \n",
    "                                   window=5,  \n",
    "                                   sg=2, \n",
    "                                   hs=0,\n",
    "                                   negative=10, \n",
    "                                   workers=2, \n",
    "                                   seed=34 )\n",
    "\n",
    "Model_W2V.train(Tokenize_tweet, total_examples=len(train['clean_text']), epochs=20)"
   ]
  },
  {
   "cell_type": "code",
   "execution_count": 14,
   "metadata": {},
   "outputs": [
    {
     "name": "stdout",
     "output_type": "stream",
     "text": [
      "[('bitter', 0.458268940448761), ('endure', 0.4481304883956909), ('clever', 0.4398949444293976), ('esp', 0.43654775619506836), ('harrys', 0.4353716969490051), ('sore', 0.4351949691772461), ('gutted', 0.4263296127319336), ('babe', 0.42422252893447876), ('lool', 0.40090909600257874), ('incredibly', 0.39946436882019043)]\n"
     ]
    }
   ],
   "source": [
    "print(Model_W2V.most_similar('sad'))"
   ]
  },
  {
   "cell_type": "code",
   "execution_count": 10,
   "metadata": {
    "colab": {},
    "colab_type": "code",
    "id": "UPamZWegt7kr"
   },
   "outputs": [],
   "source": [
    "# Function to convert Word2vec into an array for passing into the model\n",
    "def word_vec(tokens, size):\n",
    "    vec = np.zeros(size).reshape((1, size))\n",
    "    count = 0\n",
    "    for word in tokens:\n",
    "        try:\n",
    "            vec += Model_W2V[word].reshape((1, size))\n",
    "            count += 1\n",
    "        except KeyError:\n",
    "      \n",
    "            continue\n",
    "    \n",
    "    if count != 0:\n",
    "        vec = vec/count\n",
    "    return vec"
   ]
  },
  {
   "cell_type": "code",
   "execution_count": 15,
   "metadata": {
    "colab": {
     "base_uri": "https://localhost:8080/",
     "height": 34
    },
    "colab_type": "code",
    "id": "YmNjIzY-yFVL",
    "outputId": "275b6260-3c85-4932-c3df-502e300d5d78"
   },
   "outputs": [
    {
     "data": {
      "text/plain": [
       "(21465, 200)"
      ]
     },
     "execution_count": 15,
     "metadata": {},
     "output_type": "execute_result"
    }
   ],
   "source": [
    "Arrays = np.zeros((len(Tokenize_tweet), 200))\n",
    "\n",
    "for i in range(len(Tokenize_tweet)):\n",
    "    Arrays[i,:] = word_vec(Tokenize_tweet[i], 200)\n",
    "Arr_df = pd.DataFrame(Arrays)\n",
    "Arr_df.shape"
   ]
  },
  {
   "cell_type": "markdown",
   "metadata": {},
   "source": [
    "# Model Selection"
   ]
  },
  {
   "cell_type": "markdown",
   "metadata": {},
   "source": [
    "## Split data into train and validation set"
   ]
  },
  {
   "cell_type": "code",
   "execution_count": 18,
   "metadata": {
    "colab": {},
    "colab_type": "code",
    "id": "0JGAhPf2_TiV"
   },
   "outputs": [],
   "source": [
    "# BOW\n",
    "XTrain_Bow, XValid_Bow, YTrain, YValid = train_test_split(BOW, train['sentiment'],\n",
    "                                                          random_state = 42,\n",
    "                                                          test_size=0.2)"
   ]
  },
  {
   "cell_type": "code",
   "execution_count": 19,
   "metadata": {},
   "outputs": [],
   "source": [
    "# Tf-idf \n",
    "XTrain_tfidf, XValid_tfidf, YTrain1, YValid1 = train_test_split(Tfidf, train['sentiment'],\n",
    "                                                          random_state = 42,\n",
    "                                                          test_size=0.2)"
   ]
  },
  {
   "cell_type": "code",
   "execution_count": 20,
   "metadata": {},
   "outputs": [],
   "source": [
    "# Word2Vec\n",
    "XTrain_w2v, XValid_w2v, YTrain2, YValid2 = train_test_split(Arr_df, train['sentiment'],\n",
    "                                                          random_state = 42,\n",
    "                                                          test_size=0.2)"
   ]
  },
  {
   "cell_type": "markdown",
   "metadata": {},
   "source": [
    "## 1) Logistic Regression"
   ]
  },
  {
   "cell_type": "code",
   "execution_count": 48,
   "metadata": {},
   "outputs": [
    {
     "data": {
      "text/plain": [
       "array([0.45340502, 0.66204773, 0.70528967])"
      ]
     },
     "execution_count": 48,
     "metadata": {},
     "output_type": "execute_result"
    }
   ],
   "source": [
    "# BOW\n",
    "LR = LogisticRegression(solver='lbfgs', max_iter=500, multi_class='multinomial')\n",
    "LR.fit(XTrain_Bow,YTrain)\n",
    "\n",
    "Prediction = LR.predict(XValid_Bow)\n",
    "\n",
    "f1_score(YValid, Prediction, average=None)"
   ]
  },
  {
   "cell_type": "code",
   "execution_count": 51,
   "metadata": {},
   "outputs": [
    {
     "data": {
      "text/plain": [
       "array([0.32079646, 0.67004097, 0.70648174])"
      ]
     },
     "execution_count": 51,
     "metadata": {},
     "output_type": "execute_result"
    }
   ],
   "source": [
    "# Tf-idf\n",
    "LR = LogisticRegression(solver='lbfgs', max_iter=500, multi_class='multinomial')\n",
    "LR.fit(XTrain_tfidf,YTrain1)\n",
    "\n",
    "Prediction = LR.predict(XValid_tfidf)\n",
    "\n",
    "f1_score(YValid, Prediction, average=None)"
   ]
  },
  {
   "cell_type": "code",
   "execution_count": 52,
   "metadata": {},
   "outputs": [
    {
     "data": {
      "text/plain": [
       "array([0.40687161, 0.60505529, 0.64258555])"
      ]
     },
     "execution_count": 52,
     "metadata": {},
     "output_type": "execute_result"
    }
   ],
   "source": [
    "# Word2Vec\n",
    "LR = LogisticRegression(solver='lbfgs', max_iter=500, multi_class='multinomial')\n",
    "LR.fit(XTrain_w2v,YTrain2)\n",
    "\n",
    "Prediction = LR.predict(XValid_w2v)\n",
    "\n",
    "f1_score(YValid, Prediction, average=None)"
   ]
  },
  {
   "cell_type": "markdown",
   "metadata": {
    "colab_type": "text",
    "id": "jqv_pyNcvXeG"
   },
   "source": [
    "## 2) Support Vector Machine (SVM)\n"
   ]
  },
  {
   "cell_type": "code",
   "execution_count": 37,
   "metadata": {
    "colab": {
     "base_uri": "https://localhost:8080/",
     "height": 34
    },
    "colab_type": "code",
    "id": "OU6u8DSkvvCs",
    "outputId": "f3a202f9-2e6d-483c-adb6-4af04516efc5"
   },
   "outputs": [
    {
     "data": {
      "text/plain": [
       "array([0.4730832 , 0.65224192, 0.7014756 ])"
      ]
     },
     "execution_count": 37,
     "metadata": {},
     "output_type": "execute_result"
    }
   ],
   "source": [
    "# BOW\n",
    "svc = svm.SVC(kernel='linear', C=1, probability=True)\n",
    "svc.fit(XTrain_Bow, YTrain)\n",
    "\n",
    "Prediction = svc.predict(XValid_Bow)\n",
    "\n",
    "f1_score(YValid, Prediction, average=None)"
   ]
  },
  {
   "cell_type": "code",
   "execution_count": 38,
   "metadata": {
    "colab": {
     "base_uri": "https://localhost:8080/",
     "height": 34
    },
    "colab_type": "code",
    "id": "Zxvx4ho0xd44",
    "outputId": "92fb4e8d-ddf9-4891-a7de-393d478e341a"
   },
   "outputs": [
    {
     "data": {
      "text/plain": [
       "array([0.39324727, 0.66618182, 0.69484655])"
      ]
     },
     "execution_count": 38,
     "metadata": {},
     "output_type": "execute_result"
    }
   ],
   "source": [
    "# Tf-idf\n",
    "svc.fit(XTrain_tfidf, YTrain1)\n",
    "\n",
    "Prediction = svc.predict(XValid_tfidf)\n",
    "\n",
    "f1_score(YValid1, Prediction, average=None)"
   ]
  },
  {
   "cell_type": "code",
   "execution_count": 39,
   "metadata": {
    "colab": {
     "base_uri": "https://localhost:8080/",
     "height": 34
    },
    "colab_type": "code",
    "id": "n_0USqucyftd",
    "outputId": "d77a7bf1-bc37-48c2-e481-8acc01a0c5a7"
   },
   "outputs": [
    {
     "data": {
      "text/plain": [
       "array([0.35568513, 0.6086736 , 0.63586054])"
      ]
     },
     "execution_count": 39,
     "metadata": {},
     "output_type": "execute_result"
    }
   ],
   "source": [
    "# Word2Vec\n",
    "svc.fit(XTrain_w2v, YTrain2)\n",
    "\n",
    "Prediction = svc.predict(XValid_w2v)\n",
    "\n",
    "f1_score(YValid2, Prediction , average=None)"
   ]
  },
  {
   "cell_type": "markdown",
   "metadata": {},
   "source": [
    "## 3) Decision Tree"
   ]
  },
  {
   "cell_type": "code",
   "execution_count": 95,
   "metadata": {},
   "outputs": [
    {
     "data": {
      "text/plain": [
       "array([0.32180209, 0.62405554, 0.43172527])"
      ]
     },
     "execution_count": 95,
     "metadata": {},
     "output_type": "execute_result"
    }
   ],
   "source": [
    "# BOW\n",
    "dt = DecisionTreeClassifier(random_state=0, max_depth=6)\n",
    "\n",
    "dt.fit(XTrain_Bow, YTrain)\n",
    "\n",
    "Prediction = dt.predict(XValid_Bow)\n",
    "f1_score(YValid, Prediction, average=None)"
   ]
  },
  {
   "cell_type": "code",
   "execution_count": 96,
   "metadata": {},
   "outputs": [
    {
     "data": {
      "text/plain": [
       "array([0.32045089, 0.62311762, 0.42304527])"
      ]
     },
     "execution_count": 96,
     "metadata": {},
     "output_type": "execute_result"
    }
   ],
   "source": [
    "# Tf-idf\n",
    "dt = DecisionTreeClassifier(random_state=0, max_depth=6)\n",
    "\n",
    "dt.fit(XTrain_tfidf, YTrain1)\n",
    "\n",
    "Prediction = dt.predict(XValid_tfidf)\n",
    "f1_score(YValid, Prediction, average=None)"
   ]
  },
  {
   "cell_type": "code",
   "execution_count": 97,
   "metadata": {},
   "outputs": [
    {
     "data": {
      "text/plain": [
       "array([0.22494888, 0.52233316, 0.54076802])"
      ]
     },
     "execution_count": 97,
     "metadata": {},
     "output_type": "execute_result"
    }
   ],
   "source": [
    "# Word2vec\n",
    "dt = DecisionTreeClassifier(random_state=0, max_depth=6)\n",
    "\n",
    "dt.fit(XTrain_w2v, YTrain2)\n",
    "\n",
    "Prediction = dt.predict(XValid_w2v)\n",
    "f1_score(YValid, Prediction, average=None)"
   ]
  },
  {
   "cell_type": "markdown",
   "metadata": {
    "colab_type": "text",
    "id": "M1bb1b7H6JOY"
   },
   "source": [
    "## 4) Random Forest"
   ]
  },
  {
   "cell_type": "code",
   "execution_count": 41,
   "metadata": {
    "colab": {
     "base_uri": "https://localhost:8080/",
     "height": 34
    },
    "colab_type": "code",
    "id": "sPLUiEPEAQX6",
    "outputId": "1baf18a4-201d-4ab5-bfc0-7e5f1b30d1d0"
   },
   "outputs": [
    {
     "data": {
      "text/plain": [
       "array([0.32      , 0.67305389, 0.69438906])"
      ]
     },
     "execution_count": 41,
     "metadata": {},
     "output_type": "execute_result"
    }
   ],
   "source": [
    "# BOW\n",
    "rf = RandomForestClassifier(n_estimators=400, random_state=11)\n",
    "\n",
    "rf.fit(XTrain_Bow, YTrain)\n",
    "\n",
    "Prediction = rf.predict(XValid_Bow)\n",
    "f1_score(YValid, Prediction, average=None)"
   ]
  },
  {
   "cell_type": "code",
   "execution_count": 42,
   "metadata": {
    "colab": {
     "base_uri": "https://localhost:8080/",
     "height": 34
    },
    "colab_type": "code",
    "id": "_UMfyPY8CGMl",
    "outputId": "5171c717-900a-4616-866b-9d66a4ad759c"
   },
   "outputs": [
    {
     "data": {
      "text/plain": [
       "array([0.31116122, 0.66951567, 0.68769716])"
      ]
     },
     "execution_count": 42,
     "metadata": {},
     "output_type": "execute_result"
    }
   ],
   "source": [
    "# Tf-idf\n",
    "rf.fit(XTrain_tfidf, YTrain1)\n",
    "\n",
    "Prediction = rf.predict(XValid_tfidf)\n",
    "f1_score(YValid1, Prediction, average=None)"
   ]
  },
  {
   "cell_type": "code",
   "execution_count": 43,
   "metadata": {
    "colab": {
     "base_uri": "https://localhost:8080/",
     "height": 34
    },
    "colab_type": "code",
    "id": "0dc0BSY_Cgpk",
    "outputId": "ef518b41-5a45-4c42-e8fc-24d5481162f0"
   },
   "outputs": [
    {
     "data": {
      "text/plain": [
       "array([0.12516644, 0.60774578, 0.63829787])"
      ]
     },
     "execution_count": 43,
     "metadata": {},
     "output_type": "execute_result"
    }
   ],
   "source": [
    "# Word2vec\n",
    "rf.fit(XTrain_w2v, YTrain2)\n",
    "\n",
    "Prediction = rf.predict(XValid_w2v)\n",
    "f1_score(YValid2, Prediction, average=None)"
   ]
  },
  {
   "cell_type": "markdown",
   "metadata": {
    "colab": {},
    "colab_type": "code",
    "id": "tLtb_3LuVkvS"
   },
   "source": [
    "## 5) Bernoulli Naive Bayes "
   ]
  },
  {
   "cell_type": "code",
   "execution_count": 79,
   "metadata": {},
   "outputs": [
    {
     "data": {
      "text/plain": [
       "array([0.        , 0.62094434, 0.68157511])"
      ]
     },
     "execution_count": 79,
     "metadata": {},
     "output_type": "execute_result"
    }
   ],
   "source": [
    "# BOW\n",
    "BNB = BernoulliNB()\n",
    "BNB.fit(XTrain_Bow, YTrain)\n",
    "Prediction = BNB.predict(XValid_Bow)\n",
    "\n",
    "f1_score(YValid, Prediction, average=None)"
   ]
  },
  {
   "cell_type": "code",
   "execution_count": 80,
   "metadata": {},
   "outputs": [
    {
     "data": {
      "text/plain": [
       "array([0.        , 0.62094434, 0.68157511])"
      ]
     },
     "execution_count": 80,
     "metadata": {},
     "output_type": "execute_result"
    }
   ],
   "source": [
    "# Tf-idf\n",
    "BNB = BernoulliNB()\n",
    "BNB.fit(XTrain_tfidf,YTrain1)\n",
    "Prediction = BNB.predict(XValid_tfidf)\n",
    "\n",
    "f1_score(YValid1, Prediction, average=None)"
   ]
  },
  {
   "cell_type": "code",
   "execution_count": 81,
   "metadata": {},
   "outputs": [
    {
     "data": {
      "text/plain": [
       "array([0.41035857, 0.54828481, 0.5959568 ])"
      ]
     },
     "execution_count": 81,
     "metadata": {},
     "output_type": "execute_result"
    }
   ],
   "source": [
    "# Word2Vec\n",
    "BNB = BernoulliNB()\n",
    "BNB.fit(XTrain_w2v,YTrain2)\n",
    "Prediction = BNB.predict(XValid_w2v)\n",
    "\n",
    "f1_score(YValid2, Prediction, average=None)"
   ]
  },
  {
   "cell_type": "markdown",
   "metadata": {},
   "source": [
    "## 6) Multinomial Naive Bayes"
   ]
  },
  {
   "cell_type": "code",
   "execution_count": 83,
   "metadata": {},
   "outputs": [
    {
     "data": {
      "text/plain": [
       "array([0.367428 , 0.6105919, 0.6916996])"
      ]
     },
     "execution_count": 83,
     "metadata": {},
     "output_type": "execute_result"
    }
   ],
   "source": [
    "# BOW\n",
    "MNB = MultinomialNB()\n",
    "MNB.fit(XTrain_Bow, YTrain)\n",
    "Prediction = MNB.predict(XValid_Bow)\n",
    "\n",
    "f1_score(YValid, Prediction, average=None)"
   ]
  },
  {
   "cell_type": "code",
   "execution_count": 84,
   "metadata": {},
   "outputs": [
    {
     "data": {
      "text/plain": [
       "array([0.        , 0.61347038, 0.68344811])"
      ]
     },
     "execution_count": 84,
     "metadata": {},
     "output_type": "execute_result"
    }
   ],
   "source": [
    "# Tf-idf\n",
    "MNB = MultinomialNB()\n",
    "MNB.fit(XTrain_tfidf,YTrain1)\n",
    "Prediction = MNB.predict(XValid_tfidf)\n",
    "\n",
    "f1_score(YValid1, Prediction, average=None)"
   ]
  },
  {
   "cell_type": "code",
   "execution_count": 21,
   "metadata": {},
   "outputs": [],
   "source": [
    "# Word2Vec\n",
    "# Multinomial Naive Bayes cannot run on Word2Vec models\n",
    "# Since, multinomial Naive Bayes doesn't accept negative values as inputs.Whereas,Word2Vec models contains negative values in it"
   ]
  },
  {
   "cell_type": "markdown",
   "metadata": {},
   "source": [
    "## 7) SGD Classification"
   ]
  },
  {
   "cell_type": "code",
   "execution_count": 99,
   "metadata": {},
   "outputs": [
    {
     "data": {
      "text/plain": [
       "array([0.4461671 , 0.65331599, 0.70167598])"
      ]
     },
     "execution_count": 99,
     "metadata": {},
     "output_type": "execute_result"
    }
   ],
   "source": [
    "# BOW\n",
    "SGD = SGDClassifier()\n",
    "SGD.fit(XTrain_Bow, YTrain)\n",
    "Prediction = SGD.predict(XValid_Bow)\n",
    "\n",
    "f1_score(YValid, Prediction, average=None)"
   ]
  },
  {
   "cell_type": "code",
   "execution_count": 100,
   "metadata": {},
   "outputs": [
    {
     "data": {
      "text/plain": [
       "array([0.35791757, 0.67081936, 0.69226361])"
      ]
     },
     "execution_count": 100,
     "metadata": {},
     "output_type": "execute_result"
    }
   ],
   "source": [
    "# Tf-idf\n",
    "SGD = SGDClassifier()\n",
    "SGD.fit(XTrain_tfidf, YTrain1)\n",
    "Prediction = SGD.predict(XValid_tfidf)\n",
    "\n",
    "f1_score(YValid1, Prediction, average=None)"
   ]
  },
  {
   "cell_type": "code",
   "execution_count": 101,
   "metadata": {},
   "outputs": [
    {
     "data": {
      "text/plain": [
       "array([0.20754717, 0.60731645, 0.63985375])"
      ]
     },
     "execution_count": 101,
     "metadata": {},
     "output_type": "execute_result"
    }
   ],
   "source": [
    "# Word2Vec\n",
    "SGD = SGDClassifier()\n",
    "SGD.fit(XTrain_w2v, YTrain2)\n",
    "Prediction = SGD.predict(XValid_w2v)\n",
    "\n",
    "f1_score(YValid2, Prediction, average=None)"
   ]
  },
  {
   "cell_type": "markdown",
   "metadata": {
    "colab_type": "text",
    "id": "3WTI8-usDAkk"
   },
   "source": [
    "## 8) Extreme Gradient Boosting (XGBoost)"
   ]
  },
  {
   "cell_type": "code",
   "execution_count": 53,
   "metadata": {
    "colab": {
     "base_uri": "https://localhost:8080/",
     "height": 34
    },
    "colab_type": "code",
    "id": "k_flWUXoDiAj",
    "outputId": "3e10c9b8-bb16-48df-8e24-c4c0b12c44f2"
   },
   "outputs": [
    {
     "data": {
      "text/plain": [
       "array([0.44026341, 0.68325041, 0.69351908])"
      ]
     },
     "execution_count": 53,
     "metadata": {},
     "output_type": "execute_result"
    }
   ],
   "source": [
    "# BOW\n",
    "xgbModel = XGBClassifier(Max_depth=6, n_estimators=1000)\n",
    "\n",
    "xgbModel.fit(XTrain_Bow,YTrain)\n",
    "\n",
    "Prediction = xgbModel.predict(XValid_Bow)\n",
    "f1_score(YValid, Prediction, average=None)\n"
   ]
  },
  {
   "cell_type": "code",
   "execution_count": 54,
   "metadata": {
    "colab": {
     "base_uri": "https://localhost:8080/",
     "height": 34
    },
    "colab_type": "code",
    "id": "9IplJDqoEV_r",
    "outputId": "a1a5c555-375b-4ace-8357-dad4f7d0b9ae"
   },
   "outputs": [
    {
     "data": {
      "text/plain": [
       "array([0.41570881, 0.67750294, 0.68789809])"
      ]
     },
     "execution_count": 54,
     "metadata": {},
     "output_type": "execute_result"
    }
   ],
   "source": [
    "# Tf-idf\n",
    "xgbModel.fit(XTrain_tfidf,YTrain1)\n",
    "\n",
    "\n",
    "Prediction = xgbModel.predict(XValid_tfidf)\n",
    "f1_score(YValid1, Prediction, average=None)\n"
   ]
  },
  {
   "cell_type": "code",
   "execution_count": 55,
   "metadata": {
    "colab": {
     "base_uri": "https://localhost:8080/",
     "height": 34
    },
    "colab_type": "code",
    "id": "dcPfEBU3Uomq",
    "outputId": "eeede155-cc38-4349-bd38-6a186f533e68"
   },
   "outputs": [
    {
     "data": {
      "text/plain": [
       "array([0.37981651, 0.60294892, 0.64250946])"
      ]
     },
     "execution_count": 55,
     "metadata": {},
     "output_type": "execute_result"
    }
   ],
   "source": [
    "# Word2Vec\n",
    "xgbModel = XGBClassifier(Max_depth=6, n_estimators=1000, nthread=3)\n",
    "\n",
    "\n",
    "xgbModel.fit(XTrain_w2v,YTrain2)\n",
    "\n",
    "Prediction = xgbModel.predict(XValid_w2v)\n",
    "f1_score(YValid2, Prediction, average=None)\n"
   ]
  },
  {
   "cell_type": "markdown",
   "metadata": {},
   "source": [
    "# Up Sampling - Logistic Regression"
   ]
  },
  {
   "cell_type": "code",
   "execution_count": 22,
   "metadata": {},
   "outputs": [
    {
     "data": {
      "text/plain": [
       "array([0.44369521, 0.61478815, 0.69931271])"
      ]
     },
     "execution_count": 22,
     "metadata": {},
     "output_type": "execute_result"
    }
   ],
   "source": [
    "# BOW\n",
    "sm= SMOTE()\n",
    "X,y = sm.fit_resample(XTrain_Bow,YTrain)\n",
    "LR = LogisticRegression(solver='lbfgs', max_iter=500, multi_class='multinomial')\n",
    "LR.fit(X,y)\n",
    "\n",
    "Prediction = LR.predict(XValid_Bow)\n",
    "\n",
    "f1_score(YValid, Prediction, average=None)"
   ]
  },
  {
   "cell_type": "code",
   "execution_count": 23,
   "metadata": {},
   "outputs": [
    {
     "data": {
      "text/plain": [
       "array([0.48173005, 0.66061706, 0.69716647])"
      ]
     },
     "execution_count": 23,
     "metadata": {},
     "output_type": "execute_result"
    }
   ],
   "source": [
    "# Tf-idf\n",
    "sm= SMOTE()\n",
    "X,y = sm.fit_resample(XTrain_tfidf,YTrain1)\n",
    "\n",
    "LR.fit(X,y)\n",
    "\n",
    "Prediction = LR.predict(XValid_tfidf)\n",
    "\n",
    "f1_score(YValid1, Prediction, average=None)"
   ]
  },
  {
   "cell_type": "code",
   "execution_count": 24,
   "metadata": {},
   "outputs": [
    {
     "data": {
      "text/plain": [
       "array([0.47065217, 0.54589372, 0.62609202])"
      ]
     },
     "execution_count": 24,
     "metadata": {},
     "output_type": "execute_result"
    }
   ],
   "source": [
    "# Word2vec\n",
    "sm= SMOTE()\n",
    "X,y = sm.fit_resample(XTrain_w2v,YTrain2)\n",
    "\n",
    "LR.fit(X,y)\n",
    "\n",
    "Prediction = LR.predict(XValid_w2v)\n",
    "\n",
    "f1_score(YValid2, Prediction, average=None)"
   ]
  }
 ],
 "metadata": {
  "accelerator": "GPU",
  "colab": {
   "collapsed_sections": [
    "p3chxH35sjlU",
    "p03-adxHsjlm",
    "U2tazddmsjl5",
    "Xdn7zOXRsjmK",
    "g2dtgmNfsjmR",
    "fnUyu_aNsjmY",
    "1tpODimtsjnY",
    "XrjJQuPEsjni",
    "4fs1VOhCsjnp",
    "UeEXndvesjnx"
   ],
   "name": "Copy of NLP Twitter Sentiment Analysis.ipynb",
   "provenance": [],
   "version": "0.3.2"
  },
  "kernelspec": {
   "display_name": "Python 3",
   "language": "python",
   "name": "python3"
  },
  "language_info": {
   "codemirror_mode": {
    "name": "ipython",
    "version": 3
   },
   "file_extension": ".py",
   "mimetype": "text/x-python",
   "name": "python",
   "nbconvert_exporter": "python",
   "pygments_lexer": "ipython3",
   "version": "3.7.3"
  }
 },
 "nbformat": 4,
 "nbformat_minor": 1
}
